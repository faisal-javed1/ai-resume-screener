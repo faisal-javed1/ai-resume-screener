{
  "cells": [
    {
      "cell_type": "code",
      "execution_count": 2,
      "metadata": {
        "id": "R0b6Oou3XBoT"
      },
      "outputs": [],
      "source": [
        "#  %pip install sentence-transformers"
      ]
    },
    {
      "cell_type": "code",
      "execution_count": 3,
      "metadata": {
        "id": "LlKtwNV8WIRs"
      },
      "outputs": [
        {
          "name": "stderr",
          "output_type": "stream",
          "text": [
            "d:\\PycharmProjects\\Resume-Scoring-main\\venv\\lib\\site-packages\\tqdm\\auto.py:21: TqdmWarning: IProgress not found. Please update jupyter and ipywidgets. See https://ipywidgets.readthedocs.io/en/stable/user_install.html\n",
            "  from .autonotebook import tqdm as notebook_tqdm\n"
          ]
        }
      ],
      "source": [
        "from transformers import AutoTokenizer, AutoModel\n",
        "import torch\n"
      ]
    },
    {
      "cell_type": "code",
      "execution_count": 4,
      "metadata": {
        "colab": {
          "base_uri": "https://localhost:8080/"
        },
        "id": "TWr9LRZ4WjYV",
        "outputId": "8ee5cc4f-29c0-493e-e400-8232e83939f4"
      },
      "outputs": [],
      "source": [
        "# from google.colab import drive\n",
        "# drive.mount('/content/drive')"
      ]
    },
    {
      "cell_type": "markdown",
      "metadata": {
        "id": "s-MiCJZqWkPb"
      },
      "source": []
    },
    {
      "cell_type": "code",
      "execution_count": 5,
      "metadata": {
        "id": "bUGaK0c7WIRv"
      },
      "outputs": [],
      "source": [
        "# Load model from HuggingFace Hub\n",
        "tokenizer = AutoTokenizer.from_pretrained('sentence-transformers/all-mpnet-base-v2')\n",
        "model = AutoModel.from_pretrained('sentence-transformers/all-mpnet-base-v2')"
      ]
    },
    {
      "cell_type": "code",
      "execution_count": 6,
      "metadata": {
        "colab": {
          "base_uri": "https://localhost:8080/",
          "height": 206
        },
        "id": "g5pH_sqHWIRx",
        "outputId": "a3de9b23-3ec4-4933-c405-8108800e0127"
      },
      "outputs": [
        {
          "data": {
            "text/html": [
              "<div>\n",
              "<style scoped>\n",
              "    .dataframe tbody tr th:only-of-type {\n",
              "        vertical-align: middle;\n",
              "    }\n",
              "\n",
              "    .dataframe tbody tr th {\n",
              "        vertical-align: top;\n",
              "    }\n",
              "\n",
              "    .dataframe thead th {\n",
              "        text-align: right;\n",
              "    }\n",
              "</style>\n",
              "<table border=\"1\" class=\"dataframe\">\n",
              "  <thead>\n",
              "    <tr style=\"text-align: right;\">\n",
              "      <th></th>\n",
              "      <th>company_name</th>\n",
              "      <th>position_title</th>\n",
              "      <th>skills</th>\n",
              "    </tr>\n",
              "  </thead>\n",
              "  <tbody>\n",
              "    <tr>\n",
              "      <th>0</th>\n",
              "      <td>Grand-flo Spritvest Sdn Bhd</td>\n",
              "      <td>Software Engineer (Web)</td>\n",
              "      <td>develop test and implement new or existing sof...</td>\n",
              "    </tr>\n",
              "    <tr>\n",
              "      <th>1</th>\n",
              "      <td>Legal Marketing And Staffing</td>\n",
              "      <td>Information Technology System Administrator</td>\n",
              "      <td>maintain network integrity and security</td>\n",
              "    </tr>\n",
              "    <tr>\n",
              "      <th>2</th>\n",
              "      <td>Randstad</td>\n",
              "      <td>Office Clerk</td>\n",
              "      <td>filing</td>\n",
              "    </tr>\n",
              "    <tr>\n",
              "      <th>3</th>\n",
              "      <td>Cardinal Logistics</td>\n",
              "      <td>CDL-A Truck Driver - $5K Sign On Bonus</td>\n",
              "      <td>required skills class a commercial driver s li...</td>\n",
              "    </tr>\n",
              "    <tr>\n",
              "      <th>4</th>\n",
              "      <td>Motivate LLC</td>\n",
              "      <td>Assistant Manager</td>\n",
              "      <td>onboarding</td>\n",
              "    </tr>\n",
              "  </tbody>\n",
              "</table>\n",
              "</div>"
            ],
            "text/plain": [
              "                   company_name                               position_title  \\\n",
              "0   Grand-flo Spritvest Sdn Bhd                      Software Engineer (Web)   \n",
              "1  Legal Marketing And Staffing  Information Technology System Administrator   \n",
              "2                      Randstad                                 Office Clerk   \n",
              "3            Cardinal Logistics       CDL-A Truck Driver - $5K Sign On Bonus   \n",
              "4                  Motivate LLC                            Assistant Manager   \n",
              "\n",
              "                                              skills  \n",
              "0  develop test and implement new or existing sof...  \n",
              "1            maintain network integrity and security  \n",
              "2                                             filing  \n",
              "3  required skills class a commercial driver s li...  \n",
              "4                                         onboarding  "
            ]
          },
          "execution_count": 6,
          "metadata": {},
          "output_type": "execute_result"
        }
      ],
      "source": [
        "import pandas as pd\n",
        "# this csv contains cleaned data by preprocessing it manually using regex\n",
        "df_jds = pd.read_csv('jds.csv')\n",
        "df_jds.head()\n"
      ]
    },
    {
      "cell_type": "code",
      "execution_count": 7,
      "metadata": {},
      "outputs": [
        {
          "data": {
            "text/html": [
              "<div>\n",
              "<style scoped>\n",
              "    .dataframe tbody tr th:only-of-type {\n",
              "        vertical-align: middle;\n",
              "    }\n",
              "\n",
              "    .dataframe tbody tr th {\n",
              "        vertical-align: top;\n",
              "    }\n",
              "\n",
              "    .dataframe thead th {\n",
              "        text-align: right;\n",
              "    }\n",
              "</style>\n",
              "<table border=\"1\" class=\"dataframe\">\n",
              "  <thead>\n",
              "    <tr style=\"text-align: right;\">\n",
              "      <th></th>\n",
              "      <th>Unnamed: 0</th>\n",
              "      <th>Category</th>\n",
              "      <th>Skills</th>\n",
              "      <th>Education</th>\n",
              "      <th>Experience</th>\n",
              "    </tr>\n",
              "  </thead>\n",
              "  <tbody>\n",
              "    <tr>\n",
              "      <th>1</th>\n",
              "      <td>1</td>\n",
              "      <td>INFORMATION TECHNOLOGY</td>\n",
              "      <td>skills for networking issues, end user problem...</td>\n",
              "      <td>education programs to explain upgrades to end ...</td>\n",
              "      <td>experienced in server management, systems anal...</td>\n",
              "    </tr>\n",
              "    <tr>\n",
              "      <th>2</th>\n",
              "      <td>2</td>\n",
              "      <td>INFORMATION TECHNOLOGY</td>\n",
              "      <td>skills to interface effectively with all level...</td>\n",
              "      <td>education master of science : leadership walde...</td>\n",
              "      <td>experience 04/2013 to current information tech...</td>\n",
              "    </tr>\n",
              "    <tr>\n",
              "      <th>3</th>\n",
              "      <td>3</td>\n",
              "      <td>WORKING RF</td>\n",
              "      <td>skills big data, c, c++, charts, circuit desig...</td>\n",
              "      <td>education m.s : electrical and computer engine...</td>\n",
              "      <td>experience working rf systems engineer  may 20...</td>\n",
              "    </tr>\n",
              "    <tr>\n",
              "      <th>4</th>\n",
              "      <td>4</td>\n",
              "      <td>INFORMATION TECHNOLOGY</td>\n",
              "      <td>skills active directory, administrative suppor...</td>\n",
              "      <td>education computer technician , 07/2006 to 06/...</td>\n",
              "      <td>experience information technology manager , 03...</td>\n",
              "    </tr>\n",
              "    <tr>\n",
              "      <th>5</th>\n",
              "      <td>5</td>\n",
              "      <td>IT MANAGEMENT</td>\n",
              "      <td>skills. (solar)</td>\n",
              "      <td>education and certificates troubleshooting q c...</td>\n",
              "      <td>experience in hardware and software troublesho...</td>\n",
              "    </tr>\n",
              "    <tr>\n",
              "      <th>6</th>\n",
              "      <td>6</td>\n",
              "      <td>INFORMATION TECHNOLOGY</td>\n",
              "      <td>skills desktops, ethernet cables cisco routers...</td>\n",
              "      <td>education and certificates troubleshooting q c...</td>\n",
              "      <td>experience with information technology service...</td>\n",
              "    </tr>\n",
              "    <tr>\n",
              "      <th>8</th>\n",
              "      <td>8</td>\n",
              "      <td>INFORMATION TECHNOLOGY</td>\n",
              "      <td>skills, strong problem solving skills. sound w...</td>\n",
              "      <td>education and training 1 1988 curry college  c...</td>\n",
              "      <td>experience.  strengths - excellent communication</td>\n",
              "    </tr>\n",
              "    <tr>\n",
              "      <th>9</th>\n",
              "      <td>9</td>\n",
              "      <td>INFORMATION TECHNOLOGY</td>\n",
              "      <td>skills for quality development of standard doc...</td>\n",
              "      <td>education master of science : computer &amp; infor...</td>\n",
              "      <td>experience to deliver insightful network infra...</td>\n",
              "    </tr>\n",
              "    <tr>\n",
              "      <th>10</th>\n",
              "      <td>10</td>\n",
              "      <td>TECHNOLOGY SUPPORT</td>\n",
              "      <td>skills applications: ms office suite 2000-2016...</td>\n",
              "      <td>education department located on the main campu...</td>\n",
              "      <td>experience 03/2016 to current lead information...</td>\n",
              "    </tr>\n",
              "    <tr>\n",
              "      <th>11</th>\n",
              "      <td>11</td>\n",
              "      <td>INFORMATION TECHNOLOGY</td>\n",
              "      <td>skills administrative, analyst, army, agency, ...</td>\n",
              "      <td>education bachelor of science (bs) : informati...</td>\n",
              "      <td>experience information technology (it) special...</td>\n",
              "    </tr>\n",
              "    <tr>\n",
              "      <th>12</th>\n",
              "      <td>12</td>\n",
              "      <td>Complimentary Close</td>\n",
              "      <td>skills and</td>\n",
              "      <td>education knowledgesoft, inc., mechanicsburg, ...</td>\n",
              "      <td>experience match the job. expand on the inform...</td>\n",
              "    </tr>\n",
              "    <tr>\n",
              "      <th>13</th>\n",
              "      <td>13</td>\n",
              "      <td>ADJUNCT INFORMATION</td>\n",
              "      <td>skills  google and microsoft suite experience ...</td>\n",
              "      <td>educational needs of high school students.inst...</td>\n",
              "      <td>experience adjunct information technology inst...</td>\n",
              "    </tr>\n",
              "    <tr>\n",
              "      <th>14</th>\n",
              "      <td>14</td>\n",
              "      <td>Won Associate</td>\n",
              "      <td>skills: programming languages: c# web technolo...</td>\n",
              "      <td>education indiana university masters : compute...</td>\n",
              "      <td>experience april 2015 to current company name ...</td>\n",
              "    </tr>\n",
              "    <tr>\n",
              "      <th>15</th>\n",
              "      <td>15</td>\n",
              "      <td>INFORMATION TECHNOLOGY</td>\n",
              "      <td>skills .net, asp.net, vb.net, adabas, ado, agi...</td>\n",
              "      <td>education master of business administration (m...</td>\n",
              "      <td>experience director of information technology ...</td>\n",
              "    </tr>\n",
              "    <tr>\n",
              "      <th>16</th>\n",
              "      <td>16</td>\n",
              "      <td>INFORMATION TECHNOLOGY</td>\n",
              "      <td>skills agile framework business intelligence c...</td>\n",
              "      <td>education certified associate in project manag...</td>\n",
              "      <td>experience including oversight of infrastructu...</td>\n",
              "    </tr>\n",
              "    <tr>\n",
              "      <th>17</th>\n",
              "      <td>17</td>\n",
              "      <td>INFORMATION TECHNOLOGY</td>\n",
              "      <td>skills in information systems and networking.</td>\n",
              "      <td>education comp a+ course, windows 7 course, co...</td>\n",
              "      <td>experience information technology specialist  ...</td>\n",
              "    </tr>\n",
              "    <tr>\n",
              "      <th>18</th>\n",
              "      <td>18</td>\n",
              "      <td>INFORMATION TECHNOLOGY</td>\n",
              "      <td>skills 4d, active directory, adobe products, a...</td>\n",
              "      <td>education bs : computer system engineer , janu...</td>\n",
              "      <td>experience information technology manager  apr...</td>\n",
              "    </tr>\n",
              "    <tr>\n",
              "      <th>19</th>\n",
              "      <td>19</td>\n",
              "      <td>INFORMATION TECHNOLOGY</td>\n",
              "      <td>skills academic, active directory, adp, apple,...</td>\n",
              "      <td>education mba pepperdine university bs : biolo...</td>\n",
              "      <td>experience including health care, private sect...</td>\n",
              "    </tr>\n",
              "    <tr>\n",
              "      <th>20</th>\n",
              "      <td>20</td>\n",
              "      <td>INFORMATION TECHNOLOGY</td>\n",
              "      <td>skills,</td>\n",
              "      <td>education bachelor of science : management inf...</td>\n",
              "      <td>experienced in high-volume, multi-unit, retail...</td>\n",
              "    </tr>\n",
              "    <tr>\n",
              "      <th>21</th>\n",
              "      <td>21</td>\n",
              "      <td>Executive Summary</td>\n",
              "      <td>skills adr, advertising, arcserve, asset manag...</td>\n",
              "      <td>educational programs and supported seasoned cl...</td>\n",
              "      <td>experience in analyzing systems/processes and ...</td>\n",
              "    </tr>\n",
              "  </tbody>\n",
              "</table>\n",
              "</div>"
            ],
            "text/plain": [
              "    Unnamed: 0                Category  \\\n",
              "1            1  INFORMATION TECHNOLOGY   \n",
              "2            2  INFORMATION TECHNOLOGY   \n",
              "3            3              WORKING RF   \n",
              "4            4  INFORMATION TECHNOLOGY   \n",
              "5            5           IT MANAGEMENT   \n",
              "6            6  INFORMATION TECHNOLOGY   \n",
              "8            8  INFORMATION TECHNOLOGY   \n",
              "9            9  INFORMATION TECHNOLOGY   \n",
              "10          10      TECHNOLOGY SUPPORT   \n",
              "11          11  INFORMATION TECHNOLOGY   \n",
              "12          12     Complimentary Close   \n",
              "13          13     ADJUNCT INFORMATION   \n",
              "14          14           Won Associate   \n",
              "15          15  INFORMATION TECHNOLOGY   \n",
              "16          16  INFORMATION TECHNOLOGY   \n",
              "17          17  INFORMATION TECHNOLOGY   \n",
              "18          18  INFORMATION TECHNOLOGY   \n",
              "19          19  INFORMATION TECHNOLOGY   \n",
              "20          20  INFORMATION TECHNOLOGY   \n",
              "21          21       Executive Summary   \n",
              "\n",
              "                                               Skills  \\\n",
              "1   skills for networking issues, end user problem...   \n",
              "2   skills to interface effectively with all level...   \n",
              "3   skills big data, c, c++, charts, circuit desig...   \n",
              "4   skills active directory, administrative suppor...   \n",
              "5                                    skills. (solar)    \n",
              "6   skills desktops, ethernet cables cisco routers...   \n",
              "8   skills, strong problem solving skills. sound w...   \n",
              "9   skills for quality development of standard doc...   \n",
              "10  skills applications: ms office suite 2000-2016...   \n",
              "11  skills administrative, analyst, army, agency, ...   \n",
              "12                                        skills and    \n",
              "13  skills  google and microsoft suite experience ...   \n",
              "14  skills: programming languages: c# web technolo...   \n",
              "15  skills .net, asp.net, vb.net, adabas, ado, agi...   \n",
              "16  skills agile framework business intelligence c...   \n",
              "17     skills in information systems and networking.    \n",
              "18  skills 4d, active directory, adobe products, a...   \n",
              "19  skills academic, active directory, adp, apple,...   \n",
              "20                                           skills,    \n",
              "21  skills adr, advertising, arcserve, asset manag...   \n",
              "\n",
              "                                            Education  \\\n",
              "1   education programs to explain upgrades to end ...   \n",
              "2   education master of science : leadership walde...   \n",
              "3   education m.s : electrical and computer engine...   \n",
              "4   education computer technician , 07/2006 to 06/...   \n",
              "5   education and certificates troubleshooting q c...   \n",
              "6   education and certificates troubleshooting q c...   \n",
              "8   education and training 1 1988 curry college  c...   \n",
              "9   education master of science : computer & infor...   \n",
              "10  education department located on the main campu...   \n",
              "11  education bachelor of science (bs) : informati...   \n",
              "12  education knowledgesoft, inc., mechanicsburg, ...   \n",
              "13  educational needs of high school students.inst...   \n",
              "14  education indiana university masters : compute...   \n",
              "15  education master of business administration (m...   \n",
              "16  education certified associate in project manag...   \n",
              "17  education comp a+ course, windows 7 course, co...   \n",
              "18  education bs : computer system engineer , janu...   \n",
              "19  education mba pepperdine university bs : biolo...   \n",
              "20  education bachelor of science : management inf...   \n",
              "21  educational programs and supported seasoned cl...   \n",
              "\n",
              "                                           Experience  \n",
              "1   experienced in server management, systems anal...  \n",
              "2   experience 04/2013 to current information tech...  \n",
              "3   experience working rf systems engineer  may 20...  \n",
              "4   experience information technology manager , 03...  \n",
              "5   experience in hardware and software troublesho...  \n",
              "6   experience with information technology service...  \n",
              "8   experience.  strengths - excellent communication   \n",
              "9   experience to deliver insightful network infra...  \n",
              "10  experience 03/2016 to current lead information...  \n",
              "11  experience information technology (it) special...  \n",
              "12  experience match the job. expand on the inform...  \n",
              "13  experience adjunct information technology inst...  \n",
              "14  experience april 2015 to current company name ...  \n",
              "15  experience director of information technology ...  \n",
              "16  experience including oversight of infrastructu...  \n",
              "17  experience information technology specialist  ...  \n",
              "18  experience information technology manager  apr...  \n",
              "19  experience including health care, private sect...  \n",
              "20  experienced in high-volume, multi-unit, retail...  \n",
              "21  experience in analyzing systems/processes and ...  "
            ]
          },
          "execution_count": 7,
          "metadata": {},
          "output_type": "execute_result"
        }
      ],
      "source": [
        "df_res = pd.read_csv('parsed_res_it.csv')\n",
        "df = df_res.sample(frac=1, random_state=42)\n",
        "df_res = df_res[1:22]\n",
        "df_res.drop(7)"
      ]
    },
    {
      "cell_type": "code",
      "execution_count": 8,
      "metadata": {
        "colab": {
          "base_uri": "https://localhost:8080/"
        },
        "id": "C-cuCVHJWIRz",
        "outputId": "65546c8e-4aa3-419b-9495-f57e041ac302"
      },
      "outputs": [
        {
          "data": {
            "text/plain": [
              "['skills for networking issues, end user problems, and network security. ',\n",
              " 'skills to interface effectively with all levels of an organization. expertise spans: network engineering, helpdesk administration, software licensing, disaster recovery, backup/restore operations/project management, strategic planning/analysis, budgeting, teambuilding/training, vendor relations policy/procedure development, quality assurance, troubleshooting, problem solving, process improvement. ',\n",
              " 'skills big data, c, c++, charts, circuit design, hardware, data acquisition, data analyst, data collection, data mining, databases, database, dbm, dti, design software, documentation, functional, gsm, innovation, java, labview, team leader, logic analyzer, mac, manufacturing processes, matlab, excel, microsoft office, office, microwave, radar, ncs, network, db, packaging, pivot tables, programming, project design, proposals, publication, python, quality, requirement, research, sas, self-starter, spectrum analyzer, spss, sql, ssl, statistics, surveys, system design, troubleshooting, validation   ',\n",
              " 'skills active directory, administrative support, adobe acrobat, architect, backup, budget, client/server, hardware, concept, client, clients, client support, das, database, disaster recovery, ghost, lan, laptops, mac hardware, mac, exchange, microsoft exchange, microsoft exchange 2003, microsoft office, windows 7, windows, microsoft windows 2003, windows xp, nec, novell, operating systems, operating system, pbx, peripherals, policies, processes, purchasing, servers, sla, sql, symantec, technical support, phones, video, vista, web servers, wan, windows server   ',\n",
              " 'skills. (solar) ',\n",
              " 'skills desktops, ethernet cables cisco routers video & sound cards cd-rom drives multiplexors scanners monitors switches tcp/ip configuration installing, adding and deleting user accounts with active directory strong software and application knowledge such as avaya, microsoft office, and remedy ',\n",
              " 'skills, excellent written and verbal communication skills, seeks challenging position with an organization where i can make a big impact with my multifaceted ',\n",
              " 'skills, strong problem solving skills. sound work ethic, capable of working independently or in a team environment. highly professional with the ability to set and maintain priorities.  ',\n",
              " 'skills for quality development of standard documentation, as well as genuine leadership and assistance for associates and clients.â  highlights  enterprise platforms current pmp certification project tracking hardware and software upgrade planning certified information security manager user experience (ux) design self-motivated  vast technical knowledge server management mac and pc expert computer programming highly motivated resourceful control system design proficient multi-tasker  ',\n",
              " 'skills applications: ms office suite 2000-2016, o365, groupwise, heat call logging, crystal reports, t3 voicemail, netmotion, novell imanager, active directory client/server: heatweb-fs platforms: windows 2000/xp/7/8/10, unix, dos ',\n",
              " 'skills administrative, analyst, army, agency, cable, cabling, cat5, documentation, engineer, engineering support, financial, functional, government, ims, information systems, information technology, local area networks, local area network, lans, lan, law, materials, meetings, office, network, networks, personnel, procurement, project leader, project coordination, qa, quick, radio, routing, sat, scheduling, supervisor, surveys, switch, system design, systems integration, telecommunications, telephone, theatre, uhf, ultra high frequency, upgrades, upgrade, validation, vista, voice and data   ',\n",
              " 'skills and ',\n",
              " 'skills  google and microsoft suite experience through coursework and classroom implementation. familiar with both the educational and information technology fields. experience in both project management and educating teachers on the use of technology in the classroom .  awards / recognition / volunteer work  â kentucky colonel awardâ  hchs curriculum committee - vice chair â  cum laude - murray state university may 2011   ',\n",
              " 'skills: programming languages: c# web technologies: sharepoint 2010, asp.net 4.0/3.5/2.0, mvc 4 application software: visual studio 2008/2010/2013, sql server management studio databases: sql server 2005/2008 r2, mysql, oracle others: html, jquery, css, javascript, bootstrap, jira source controls: team foundation sever, github, visual source safe projects at work: 1) ledger: ledger is developed to manage the task of invoice clearance for different finance benefits trust accounts of pratt & whitney. it is also used to track invoices charged back to the department budget or to the various business units. the primary ',\n",
              " 'skills .net, asp.net, vb.net, adabas, ado, agile, application development, asp, agency, banking, banyan, billing, business analysis, business intelligence, cardiology, client server, hardware, data management, database administration, database design, delivery, desktops, xml, help desk support, help desk, iis, information technology, it strategy, leadership, team leadership, mainframe, c#, office, sharepoint, natural, network administrator, network administration, network support, network, novell, object modeling, oracle, oracle dba, developer, pl/sql, oracle sql, phone system, programming, project management, requirements analysis, research, sdlc, software development, microsoft sql server, sql, sql server, tableau, phone, web applications, year 2000   ',\n",
              " 'skills agile framework business intelligence change management collaboration conflict resolution critical thinking data migration information technology management insurance itil organization and time management perl problem-solving project lifecycle management project management and leadership python risk assessment salesforce admin and crm sdlc six sigma  sql (microsoft and oracle) excellent verbal and written communication agile, functional, project leadership,written communication ai, information technology, project management budgeting, insurance, python budgets, itil, quality budget, leadership, research business intelligence, marketing, risk assessment business process re-engineering, access, sales change management, excel, scheduling conflict resolution, migration, sdlc critical thinking, network design, six sigma crm, next, software development clients, optimization, sql client, oracle, staffing data collection, perl, strategic data migration, problem-solving, time management databases, processes, upgrades designing, producing, upgrade senior management, profit, vision  work history director of information technology , 11/2012 to current  company name â€“ city , state   develops, tracks and controls long-term information technology operating budgets and cost and benefit analyses for it spending initiatives. leads and assists technical upgrade ',\n",
              " 'skills in information systems and networking. ',\n",
              " 'skills 4d, active directory, adobe products, apple, automation, backup, broadcast, budget planning, computer technician, hardware installation and configuration, hardware, databases, database, dhcp, dns, editing, final cut, firewall, ftp, inventory, lan, mac, magic, access,    microsoft exchange server, windows 7, windows, 2000, windows xp, network administration, network, os, operating system, power builder 6.5, power builder 9.0, processes, quickbooks pro, research, sales, san, servers, software installation, microsoft sql server, streaming video, sybase sql anywhere 7.0, sybase sql anywhere 9.0, sybase sql anywhere, symantec, technical support, television, video, vpn, windows server, windows 2000 server   ',\n",
              " 'skills academic, active directory, adp, apple, architect, agency, b2b, behavioral health, billing, book, broadvision, cad, case management, cisco, concept, contracts, ventura, crm, clients, customer satisfaction, customer support, data collection, data warehouse, databases, database, decision support, delivery, document management, edge, estimating, focus, front office, drawing, imaging, insurance, internet marketing, itil, law enforcement, leadership, leadership skills, mentor, mentoring, access, office, ms project, microwave, enterprise, network, new construction, packaging, pacs, patient care, peoplesoft, permitting, presentations, process re-engineering, processes, project management, project leadership, proposal, public health, public safety, quality assurance, real-time, reporting, requirements definition, rms, routers, sap, scheduling, sql, supervision, switches, tax, telecommunications, telephone, phones, training materials, upgrades, upgrade, utilities, voip, warrants, web development, workflow   ',\n",
              " 'skills, ']"
            ]
          },
          "execution_count": 8,
          "metadata": {},
          "output_type": "execute_result"
        }
      ],
      "source": [
        "sentences_res = df_res[\"Skills\"].to_list()\n",
        "\n",
        "for s in sentences_res:\n",
        "    if type(s) != str:\n",
        "        sentences_res.remove(s)#removing 1 particular nan value\n",
        "\n",
        "sentences_res = sentences_res[:20]\n",
        "sentences_res"
      ]
    },
    {
      "cell_type": "code",
      "execution_count": 9,
      "metadata": {},
      "outputs": [
        {
          "data": {
            "text/plain": [
              "['develop test and implement new or existing software products and continuously looking for improvements',\n",
              " 'maintain network integrity and security',\n",
              " 'filing',\n",
              " 'required skills class a commercial driver s license cdla',\n",
              " 'onboarding',\n",
              " 'required skills must be currently enrolled in college and pursuing coursework in marketing or communication ability to develop and maintain effective working relationships with stakeholders including employees and the general public ability to speak and write clearly',\n",
              " 'returns and sales answer and resolve calls from sales colleagues and customers regarding guidelines increases and credit referrals complete various credit customer service functions based on business needs',\n",
              " 'prepare and submit customer applications to insurance carriers for approval review and compile necessary information ensuring application packet completeness and accuracy verify proper formatting and submit the application using the carrier specified channel',\n",
              " 'provide full service experience to customers',\n",
              " 'provide instructions',\n",
              " 'data and analytics',\n",
              " 'required skills experience working with public private schools college degree',\n",
              " 'support the different stakeholders in the business unit to accelerate the results of the proof of concept and rollout',\n",
              " 'preparing proposals',\n",
              " 'marketing campaigns']"
            ]
          },
          "execution_count": 9,
          "metadata": {},
          "output_type": "execute_result"
        }
      ],
      "source": [
        "sentences_jds = df_jds[\"skills\"].to_list()\n",
        "\n",
        "for s in sentences_jds:\n",
        "    if type(s) != str:\n",
        "        sentences_jds.remove(s)  # removing 1 particular nan value\n",
        "\n",
        "sentences_jds\n"
      ]
    },
    {
      "cell_type": "code",
      "execution_count": 10,
      "metadata": {
        "colab": {
          "base_uri": "https://localhost:8080/"
        },
        "id": "pvFCleE2WIRz",
        "outputId": "aba0bbc4-da6b-4ee4-8d13-31f127255f8f"
      },
      "outputs": [
        {
          "data": {
            "text/plain": [
              "{'input_ids': tensor([[    0,  4817,  2009, 14052,  3318,  1014,  2207,  5314,  3475,  1014,\n",
              "          2002,  2901,  3040,  1016,     2,     1,     1,     1,     1,     1,\n",
              "             1,     1,     1,     1,     1,     1,     1,     1,     1,     1,\n",
              "             1,     1,     1,     1,     1,     1,     1,     1,     1,     1,\n",
              "             1,     1,     1,     1,     1,     1,     1,     1,     1,     1,\n",
              "             1,     1,     1,     1,     1,     1,     1,     1,     1,     1,\n",
              "             1,     1,     1,     1,     1,     1,     1,     1,     1,     1,\n",
              "             1,     1,     1,     1,     1,     1,     1,     1,     1,     1,\n",
              "             1,     1,     1,     1,     1,     1,     1,     1,     1,     1,\n",
              "             1,     1,     1,     1,     1,     1,     1,     1,     1,     1,\n",
              "             1,     1,     1,     1,     1,     1,     1,     1,     1,     1,\n",
              "             1,     1,     1,     1,     1,     1,     1,     1,     1,     1,\n",
              "             1,     1,     1,     1,     1,     1,     1,     1,     1,     1,\n",
              "             1,     1,     1,     1,     1,     1,     1,     1,     1,     1,\n",
              "             1,     1,     1,     1,     1,     1,     1,     1,     1,     1,\n",
              "             1,     1,     1,     1,     1,     1,     1,     1,     1,     1,\n",
              "             1,     1,     1,     1,     1,     1,     1,     1,     1,     1,\n",
              "             1,     1,     1,     1,     1,     1,     1,     1,     1,     1,\n",
              "             1,     1,     1,     1,     1,     1,     1,     1,     1,     1,\n",
              "             1,     1,     1,     1,     1,     1,     1,     1,     1,     1,\n",
              "             1,     1,     1,     1,     1,     1,     1,     1,     1,     1,\n",
              "             1,     1,     1,     1,     1,     1,     1,     1,     1,     1,\n",
              "             1,     1,     1,     1,     1,     1,     1,     1,     1,     1,\n",
              "             1,     1,     1,     1,     1,     1,     1,     1,     1,     1,\n",
              "             1,     1,     1,     1,     1,     1,     1,     1,     1,     1,\n",
              "             1,     1,     1,     1,     1,     1,     1,     1,     1,     1,\n",
              "             1,     1,     1,     1,     1,     1,     1,     1,     1,     1,\n",
              "             1,     1,     1,     1,     1,     1,     1,     1,     1,     1,\n",
              "             1,     1,     1,     1,     1,     1,     1,     1,     1,     1,\n",
              "             1,     1,     1,     1,     1,     1,     1,     1,     1,     1,\n",
              "             1,     1,     1,     1,     1,     1,     1,     1,     1,     1,\n",
              "             1,     1,     1,     1,     1,     1,     1,     1,     1,     1,\n",
              "             1,     1,     1,     1,     1,     1,     1,     1,     1,     1,\n",
              "             1,     1,     1,     1,     1,     1,     1,     1,     1,     1,\n",
              "             1,     1,     1,     1,     1,     1,     1,     1,     1,     1,\n",
              "             1,     1,     1,     1,     1,     1,     1,     1,     1,     1,\n",
              "             1,     1,     1,     1,     1,     1,     1,     1,     1,     1,\n",
              "             1,     1,     1,     1,     1,     1,     1,     1,     1,     1,\n",
              "             1,     1,     1,     1,     1,     1,     1,     1,     1,     1,\n",
              "             1,     1,     1,     1,     1,     1,     1,     1,     1,     1,\n",
              "             1,     1,     1,     1,     1,     1,     1,     1,     1,     1,\n",
              "             1,     1,     1,     1,     1,     1,     1,     1,     1,     1,\n",
              "             1,     1,     1,     1,     1,     1,     1,     1,     1,     1,\n",
              "             1,     1,     1,     1,     1,     1,     1,     1,     1,     1,\n",
              "             1,     1,     1,     1,     1,     1,     1,     1,     1,     1,\n",
              "             1,     1,     1,     1,     1,     1,     1,     1,     1,     1,\n",
              "             1,     1,     1,     1,     1,     1,     1,     1,     1,     1,\n",
              "             1,     1,     1,     1,     1,     1,     1,     1,     1,     1,\n",
              "             1,     1,     1,     1,     1,     1,     1,     1,     1,     1,\n",
              "             1,     1,     1,     1,     1,     1,     1,     1,     1,     1,\n",
              "             1,     1,     1,     1,     1,     1,     1,     1,     1,     1,\n",
              "             1,     1]]), 'attention_mask': tensor([[1, 1, 1, 1, 1, 1, 1, 1, 1, 1, 1, 1, 1, 1, 1, 0, 0, 0, 0, 0, 0, 0, 0, 0,\n",
              "         0, 0, 0, 0, 0, 0, 0, 0, 0, 0, 0, 0, 0, 0, 0, 0, 0, 0, 0, 0, 0, 0, 0, 0,\n",
              "         0, 0, 0, 0, 0, 0, 0, 0, 0, 0, 0, 0, 0, 0, 0, 0, 0, 0, 0, 0, 0, 0, 0, 0,\n",
              "         0, 0, 0, 0, 0, 0, 0, 0, 0, 0, 0, 0, 0, 0, 0, 0, 0, 0, 0, 0, 0, 0, 0, 0,\n",
              "         0, 0, 0, 0, 0, 0, 0, 0, 0, 0, 0, 0, 0, 0, 0, 0, 0, 0, 0, 0, 0, 0, 0, 0,\n",
              "         0, 0, 0, 0, 0, 0, 0, 0, 0, 0, 0, 0, 0, 0, 0, 0, 0, 0, 0, 0, 0, 0, 0, 0,\n",
              "         0, 0, 0, 0, 0, 0, 0, 0, 0, 0, 0, 0, 0, 0, 0, 0, 0, 0, 0, 0, 0, 0, 0, 0,\n",
              "         0, 0, 0, 0, 0, 0, 0, 0, 0, 0, 0, 0, 0, 0, 0, 0, 0, 0, 0, 0, 0, 0, 0, 0,\n",
              "         0, 0, 0, 0, 0, 0, 0, 0, 0, 0, 0, 0, 0, 0, 0, 0, 0, 0, 0, 0, 0, 0, 0, 0,\n",
              "         0, 0, 0, 0, 0, 0, 0, 0, 0, 0, 0, 0, 0, 0, 0, 0, 0, 0, 0, 0, 0, 0, 0, 0,\n",
              "         0, 0, 0, 0, 0, 0, 0, 0, 0, 0, 0, 0, 0, 0, 0, 0, 0, 0, 0, 0, 0, 0, 0, 0,\n",
              "         0, 0, 0, 0, 0, 0, 0, 0, 0, 0, 0, 0, 0, 0, 0, 0, 0, 0, 0, 0, 0, 0, 0, 0,\n",
              "         0, 0, 0, 0, 0, 0, 0, 0, 0, 0, 0, 0, 0, 0, 0, 0, 0, 0, 0, 0, 0, 0, 0, 0,\n",
              "         0, 0, 0, 0, 0, 0, 0, 0, 0, 0, 0, 0, 0, 0, 0, 0, 0, 0, 0, 0, 0, 0, 0, 0,\n",
              "         0, 0, 0, 0, 0, 0, 0, 0, 0, 0, 0, 0, 0, 0, 0, 0, 0, 0, 0, 0, 0, 0, 0, 0,\n",
              "         0, 0, 0, 0, 0, 0, 0, 0, 0, 0, 0, 0, 0, 0, 0, 0, 0, 0, 0, 0, 0, 0, 0, 0,\n",
              "         0, 0, 0, 0, 0, 0, 0, 0, 0, 0, 0, 0, 0, 0, 0, 0, 0, 0, 0, 0, 0, 0, 0, 0,\n",
              "         0, 0, 0, 0, 0, 0, 0, 0, 0, 0, 0, 0, 0, 0, 0, 0, 0, 0, 0, 0, 0, 0, 0, 0,\n",
              "         0, 0, 0, 0, 0, 0, 0, 0, 0, 0, 0, 0, 0, 0, 0, 0, 0, 0, 0, 0, 0, 0, 0, 0,\n",
              "         0, 0, 0, 0, 0, 0, 0, 0, 0, 0, 0, 0, 0, 0, 0, 0, 0, 0, 0, 0, 0, 0, 0, 0,\n",
              "         0, 0, 0, 0, 0, 0, 0, 0, 0, 0, 0, 0, 0, 0, 0, 0, 0, 0, 0, 0, 0, 0, 0, 0,\n",
              "         0, 0, 0, 0, 0, 0, 0, 0]])}"
            ]
          },
          "execution_count": 10,
          "metadata": {},
          "output_type": "execute_result"
        }
      ],
      "source": [
        "example_sentence = sentences_res[0]\n",
        "example_tokens = tokenizer.encode_plus(example_sentence, max_length=512, truncation=True, padding='max_length', return_tensors='pt')\n",
        "example_tokens\n"
      ]
    },
    {
      "cell_type": "code",
      "execution_count": 11,
      "metadata": {
        "id": "SdsEuOlRWIR0"
      },
      "outputs": [],
      "source": [
        "import torch\n",
        "\n",
        "\n",
        "\n",
        "\n",
        "def tokenize_sentence(sentences):\n",
        "    tokens = {'input_ids': [], 'attention_mask': []}\n",
        "    for sentence in sentences:\n",
        "        try:\n",
        "            new_tokens = tokenizer.encode_plus(\n",
        "                sentence, max_length=512, truncation=True, padding='max_length', return_tensors='pt')\n",
        "            tokens['input_ids'].append(new_tokens['input_ids'][0])\n",
        "            tokens['attention_mask'].append(new_tokens['attention_mask'][0])\n",
        "        except Exception as e:\n",
        "            print(f\"Error processing sentence: {sentence}\")\n",
        "            print(f\"Error message: {str(e)}\")\n",
        "\n",
        "    # Convert the list of tensors into a tuple\n",
        "    input_ids_tuple = tuple(tokens['input_ids'])\n",
        "    attention_mask_tuple = tuple(tokens['attention_mask'])\n",
        "\n",
        "    # Use torch.stack with the tuples of tensors\n",
        "    tokens['input_ids'] = torch.stack(input_ids_tuple)\n",
        "    tokens['attention_mask'] = torch.stack(attention_mask_tuple)\n",
        "    return tokens\n",
        "\n"
      ]
    },
    {
      "cell_type": "code",
      "execution_count": 12,
      "metadata": {
        "id": "_144PSZXWIR1"
      },
      "outputs": [],
      "source": [
        "tokens_res = tokenize_sentence(sentences_res)\n",
        "tokens_jds = tokenize_sentence(sentences_jds)\n"
      ]
    },
    {
      "cell_type": "code",
      "execution_count": 13,
      "metadata": {
        "colab": {
          "base_uri": "https://localhost:8080/"
        },
        "id": "jU-z2Cp4WIR2",
        "outputId": "753d5dcd-b9c4-439f-9918-2c076341c358"
      },
      "outputs": [
        {
          "name": "stdout",
          "output_type": "stream",
          "text": [
            "torch.Size([20, 512])\n",
            "torch.Size([15, 512])\n"
          ]
        },
        {
          "ename": "",
          "evalue": "",
          "output_type": "error",
          "traceback": [
            "\u001b[1;31mThe Kernel crashed while executing code in the current cell or a previous cell. \n",
            "\u001b[1;31mPlease review the code in the cell(s) to identify a possible cause of the failure. \n",
            "\u001b[1;31mClick <a href='https://aka.ms/vscodeJupyterKernelCrash'>here</a> for more info. \n",
            "\u001b[1;31mView Jupyter <a href='command:jupyter.viewOutput'>log</a> for further details."
          ]
        }
      ],
      "source": [
        "print(f'''{tokens_res['input_ids'].shape}\n",
        "{tokens_jds['input_ids'].shape}''')\n"
      ]
    },
    {
      "cell_type": "code",
      "execution_count": 14,
      "metadata": {
        "colab": {
          "base_uri": "https://localhost:8080/"
        },
        "id": "JoJrZcOwWIR2",
        "outputId": "11d8b5b5-06e1-4240-d075-a8932545baec"
      },
      "outputs": [],
      "source": [
        "outputs_res = model(**tokens_res)\n",
        "\n",
        "outputs_jds = model(**tokens_jds)\n",
        "print(outputs_res, outputs_jds)\n"
      ]
    },
    {
      "cell_type": "code",
      "execution_count": null,
      "metadata": {
        "colab": {
          "base_uri": "https://localhost:8080/"
        },
        "id": "aQD1NbqUXpZa",
        "outputId": "da21a7f0-e49f-45af-b9f4-04934778ccee"
      },
      "outputs": [
        {
          "data": {
            "text/plain": [
              "odict_keys(['last_hidden_state', 'pooler_output'])"
            ]
          },
          "execution_count": 109,
          "metadata": {},
          "output_type": "execute_result"
        }
      ],
      "source": [
        "outputs_res.keys()"
      ]
    },
    {
      "cell_type": "code",
      "execution_count": null,
      "metadata": {
        "colab": {
          "base_uri": "https://localhost:8080/"
        },
        "id": "oCh7XqRY4spq",
        "outputId": "af2d05da-6840-45e0-e671-8ee43d30751f"
      },
      "outputs": [
        {
          "name": "stdout",
          "output_type": "stream",
          "text": [
            "tensor([[[ 0.0638, -0.0223, -0.0726,  ..., -0.0891,  0.1923, -0.0530],\n",
            "         [-0.0542, -0.1651, -0.1084,  ...,  0.1009,  0.1772, -0.0542],\n",
            "         [ 0.0029, -0.0241, -0.0135,  ...,  0.0113,  0.1817, -0.0429],\n",
            "         ...,\n",
            "         [-0.0479,  0.0616, -0.1104,  ..., -0.0370,  0.2172, -0.0496],\n",
            "         [-0.0479,  0.0616, -0.1104,  ..., -0.0370,  0.2172, -0.0496],\n",
            "         [-0.0479,  0.0616, -0.1104,  ..., -0.0370,  0.2172, -0.0496]],\n",
            "\n",
            "        [[-0.0116, -0.0754, -0.0156,  ...,  0.0159,  0.0869, -0.1285],\n",
            "         [-0.0295, -0.0597, -0.0788,  ...,  0.1064,  0.0005, -0.1817],\n",
            "         [ 0.0358, -0.0873, -0.1843,  ...,  0.0783,  0.1769, -0.0796],\n",
            "         ...,\n",
            "         [-0.0464,  0.1390, -0.0329,  ...,  0.0948,  0.1409, -0.0754],\n",
            "         [-0.0464,  0.1390, -0.0329,  ...,  0.0948,  0.1409, -0.0754],\n",
            "         [-0.0464,  0.1390, -0.0329,  ...,  0.0948,  0.1409, -0.0754]],\n",
            "\n",
            "        [[ 0.0176, -0.0452, -0.0186,  ...,  0.0690,  0.1560, -0.0189],\n",
            "         [ 0.0570, -0.0504, -0.0360,  ...,  0.1623,  0.1425, -0.0858],\n",
            "         [-0.0042, -0.2376, -0.0842,  ...,  0.0706,  0.1127, -0.1024],\n",
            "         ...,\n",
            "         [-0.0314,  0.0166, -0.0706,  ...,  0.1261,  0.1401, -0.0293],\n",
            "         [-0.0314,  0.0166, -0.0706,  ...,  0.1261,  0.1401, -0.0293],\n",
            "         [-0.0314,  0.0166, -0.0706,  ...,  0.1261,  0.1401, -0.0293]],\n",
            "\n",
            "        ...,\n",
            "\n",
            "        [[-0.0152,  0.0995, -0.0503,  ..., -0.0027,  0.1399,  0.0077],\n",
            "         [ 0.0661, -0.0423, -0.1002,  ...,  0.1280,  0.0692, -0.0925],\n",
            "         [ 0.0111, -0.0692, -0.0808,  ...,  0.1271,  0.2368,  0.0981],\n",
            "         ...,\n",
            "         [-0.0606,  0.2456, -0.0460,  ...,  0.0048,  0.0960,  0.0509],\n",
            "         [-0.0606,  0.2456, -0.0460,  ...,  0.0048,  0.0960,  0.0509],\n",
            "         [-0.0606,  0.2456, -0.0460,  ...,  0.0048,  0.0960,  0.0509]],\n",
            "\n",
            "        [[ 0.0348, -0.0319, -0.0813,  ..., -0.0207,  0.1510, -0.0038],\n",
            "         [-0.0518, -0.0671, -0.1115,  ...,  0.0734,  0.0965, -0.0962],\n",
            "         [-0.0324, -0.1603, -0.0846,  ..., -0.0616,  0.0442, -0.0556],\n",
            "         ...,\n",
            "         [-0.0208,  0.0807, -0.1265,  ..., -0.0134,  0.1911,  0.0421],\n",
            "         [-0.0208,  0.0807, -0.1265,  ..., -0.0134,  0.1911,  0.0421],\n",
            "         [-0.0208,  0.0807, -0.1265,  ..., -0.0134,  0.1911,  0.0421]],\n",
            "\n",
            "        [[ 0.0535, -0.0385, -0.0016,  ...,  0.0123,  0.1238, -0.1309],\n",
            "         [ 0.1523,  0.0847, -0.1321,  ...,  0.1448,  0.0888, -0.1313],\n",
            "         [ 0.0331,  0.0685, -0.0920,  ...,  0.0437,  0.1855, -0.0107],\n",
            "         ...,\n",
            "         [ 0.0247,  0.1638, -0.0904,  ...,  0.1217,  0.0923, -0.1443],\n",
            "         [ 0.0247,  0.1638, -0.0904,  ...,  0.1217,  0.0923, -0.1443],\n",
            "         [ 0.0247,  0.1638, -0.0904,  ...,  0.1217,  0.0923, -0.1443]]],\n",
            "       grad_fn=<NativeLayerNormBackward0>) tensor([[[ 0.1442, -0.1222, -0.2261,  ..., -0.1178,  0.1255, -0.2676],\n",
            "         [ 0.2983,  0.0226, -0.1958,  ..., -0.1053,  0.1682, -0.2298],\n",
            "         [ 0.1085, -0.1287, -0.1502,  ..., -0.1356,  0.2186, -0.1399],\n",
            "         ...,\n",
            "         [ 0.1854, -0.0019, -0.1504,  ..., -0.1100,  0.0651, -0.2285],\n",
            "         [ 0.1854, -0.0019, -0.1504,  ..., -0.1100,  0.0651, -0.2285],\n",
            "         [ 0.1854, -0.0019, -0.1504,  ..., -0.1100,  0.0651, -0.2285]],\n",
            "\n",
            "        [[-0.0787,  0.2555,  0.0560,  ...,  0.1349,  0.1310, -0.0753],\n",
            "         [-0.1252,  0.4303,  0.0503,  ...,  0.1564,  0.1958, -0.0202],\n",
            "         [-0.1153,  0.3893,  0.1658,  ...,  0.2150,  0.1737, -0.0371],\n",
            "         ...,\n",
            "         [-0.1261,  0.3231,  0.1033,  ...,  0.1284,  0.1411, -0.0713],\n",
            "         [-0.1261,  0.3231,  0.1033,  ...,  0.1284,  0.1411, -0.0713],\n",
            "         [-0.1261,  0.3231,  0.1033,  ...,  0.1284,  0.1411, -0.0713]],\n",
            "\n",
            "        [[-0.0573, -0.3370,  0.0643,  ..., -0.0406,  0.0131, -0.0550],\n",
            "         [ 0.0201,  0.3438, -0.0495,  ..., -0.0708,  0.0361,  0.0225],\n",
            "         [ 0.0469, -0.1570,  0.0512,  ..., -0.0726, -0.0584, -0.0908],\n",
            "         ...,\n",
            "         [-0.0211,  0.1321,  0.0467,  ..., -0.0106, -0.0069, -0.0625],\n",
            "         [-0.0211,  0.1321,  0.0467,  ..., -0.0106, -0.0069, -0.0625],\n",
            "         [-0.0211,  0.1321,  0.0467,  ..., -0.0106, -0.0069, -0.0625]],\n",
            "\n",
            "        ...,\n",
            "\n",
            "        [[ 0.0129, -0.0203, -0.0756,  ..., -0.0125, -0.0092, -0.0801],\n",
            "         [ 0.1727,  0.0389, -0.1707,  ...,  0.0307, -0.0311, -0.0529],\n",
            "         [ 0.1690,  0.0810, -0.1815,  ...,  0.0098,  0.0343, -0.0463],\n",
            "         ...,\n",
            "         [ 0.1521,  0.0970, -0.0568,  ...,  0.0292, -0.0084, -0.0806],\n",
            "         [ 0.1521,  0.0970, -0.0568,  ...,  0.0292, -0.0084, -0.0806],\n",
            "         [ 0.1521,  0.0970, -0.0568,  ...,  0.0292, -0.0084, -0.0806]],\n",
            "\n",
            "        [[ 0.0085, -0.1135, -0.0065,  ..., -0.1009, -0.0930,  0.0228],\n",
            "         [ 0.0457,  0.0405,  0.0156,  ..., -0.1541, -0.1080,  0.0755],\n",
            "         [ 0.1610,  0.3202, -0.0086,  ..., -0.0794, -0.0622, -0.0333],\n",
            "         ...,\n",
            "         [ 0.1000,  0.0347, -0.0118,  ..., -0.0830, -0.0226, -0.0015],\n",
            "         [ 0.1000,  0.0347, -0.0118,  ..., -0.0830, -0.0226, -0.0015],\n",
            "         [ 0.1000,  0.0347, -0.0118,  ..., -0.0830, -0.0226, -0.0015]],\n",
            "\n",
            "        [[ 0.1409, -0.0509, -0.0933,  ...,  0.0187, -0.0216, -0.0586],\n",
            "         [ 0.1452,  0.0271, -0.1860,  ..., -0.0100, -0.0912, -0.0916],\n",
            "         [ 0.1310,  0.4406, -0.1425,  ..., -0.0470, -0.1057, -0.1062],\n",
            "         ...,\n",
            "         [ 0.2132,  0.1748, -0.0835,  ...,  0.0416, -0.0632, -0.0888],\n",
            "         [ 0.2132,  0.1748, -0.0835,  ...,  0.0416, -0.0632, -0.0888],\n",
            "         [ 0.2132,  0.1748, -0.0835,  ...,  0.0416, -0.0632, -0.0888]]],\n",
            "       grad_fn=<NativeLayerNormBackward0>)\n"
          ]
        }
      ],
      "source": [
        "embeddings_res = outputs_res.last_hidden_state\n",
        "embeddings_jds = outputs_jds.last_hidden_state\n",
        "print(embeddings_res, embeddings_jds)"
      ]
    },
    {
      "cell_type": "code",
      "execution_count": null,
      "metadata": {
        "colab": {
          "base_uri": "https://localhost:8080/"
        },
        "id": "IfB3G-R_4uAd",
        "outputId": "1368856a-ab30-4d94-d059-765eb16599cc"
      },
      "outputs": [
        {
          "data": {
            "text/plain": [
              "torch.Size([20, 512, 768])"
            ]
          },
          "execution_count": 111,
          "metadata": {},
          "output_type": "execute_result"
        }
      ],
      "source": [
        "embeddings_res.shape"
      ]
    },
    {
      "cell_type": "code",
      "execution_count": null,
      "metadata": {
        "colab": {
          "base_uri": "https://localhost:8080/"
        },
        "id": "9_ClaLaO4vzd",
        "outputId": "ff4284c2-de4a-4b58-dc95-748918771427"
      },
      "outputs": [],
      "source": [
        "attention_mask_res = tokens_res['attention_mask']\n",
        "attention_mask_jds = tokens_jds['attention_mask']"
      ]
    },
    {
      "cell_type": "code",
      "execution_count": null,
      "metadata": {
        "colab": {
          "base_uri": "https://localhost:8080/"
        },
        "id": "w8QMvVtf4zcq",
        "outputId": "2e526f42-9013-45a7-a32f-5d2f66bb81e4"
      },
      "outputs": [],
      "source": [
        "resized_attention_mask_res = attention_mask_res.unsqueeze(-1).expand(embeddings_res.size()).float()\n",
        "resized_attention_mask_jds = attention_mask_jds.unsqueeze(-1).expand(embeddings_jds.size()).float()\n"
      ]
    },
    {
      "cell_type": "code",
      "execution_count": null,
      "metadata": {
        "colab": {
          "base_uri": "https://localhost:8080/"
        },
        "id": "oofbAnlD431A",
        "outputId": "e38cb478-4de2-4f8d-f807-7048553aee34"
      },
      "outputs": [
        {
          "name": "stdout",
          "output_type": "stream",
          "text": [
            "tensor([[[1., 1., 1.,  ..., 1., 1., 1.],\n",
            "         [1., 1., 1.,  ..., 1., 1., 1.],\n",
            "         [1., 1., 1.,  ..., 1., 1., 1.],\n",
            "         ...,\n",
            "         [0., 0., 0.,  ..., 0., 0., 0.],\n",
            "         [0., 0., 0.,  ..., 0., 0., 0.],\n",
            "         [0., 0., 0.,  ..., 0., 0., 0.]],\n",
            "\n",
            "        [[1., 1., 1.,  ..., 1., 1., 1.],\n",
            "         [1., 1., 1.,  ..., 1., 1., 1.],\n",
            "         [1., 1., 1.,  ..., 1., 1., 1.],\n",
            "         ...,\n",
            "         [0., 0., 0.,  ..., 0., 0., 0.],\n",
            "         [0., 0., 0.,  ..., 0., 0., 0.],\n",
            "         [0., 0., 0.,  ..., 0., 0., 0.]],\n",
            "\n",
            "        [[1., 1., 1.,  ..., 1., 1., 1.],\n",
            "         [1., 1., 1.,  ..., 1., 1., 1.],\n",
            "         [1., 1., 1.,  ..., 1., 1., 1.],\n",
            "         ...,\n",
            "         [0., 0., 0.,  ..., 0., 0., 0.],\n",
            "         [0., 0., 0.,  ..., 0., 0., 0.],\n",
            "         [0., 0., 0.,  ..., 0., 0., 0.]],\n",
            "\n",
            "        ...,\n",
            "\n",
            "        [[1., 1., 1.,  ..., 1., 1., 1.],\n",
            "         [1., 1., 1.,  ..., 1., 1., 1.],\n",
            "         [1., 1., 1.,  ..., 1., 1., 1.],\n",
            "         ...,\n",
            "         [0., 0., 0.,  ..., 0., 0., 0.],\n",
            "         [0., 0., 0.,  ..., 0., 0., 0.],\n",
            "         [0., 0., 0.,  ..., 0., 0., 0.]],\n",
            "\n",
            "        [[1., 1., 1.,  ..., 1., 1., 1.],\n",
            "         [1., 1., 1.,  ..., 1., 1., 1.],\n",
            "         [1., 1., 1.,  ..., 1., 1., 1.],\n",
            "         ...,\n",
            "         [0., 0., 0.,  ..., 0., 0., 0.],\n",
            "         [0., 0., 0.,  ..., 0., 0., 0.],\n",
            "         [0., 0., 0.,  ..., 0., 0., 0.]],\n",
            "\n",
            "        [[1., 1., 1.,  ..., 1., 1., 1.],\n",
            "         [1., 1., 1.,  ..., 1., 1., 1.],\n",
            "         [1., 1., 1.,  ..., 1., 1., 1.],\n",
            "         ...,\n",
            "         [0., 0., 0.,  ..., 0., 0., 0.],\n",
            "         [0., 0., 0.,  ..., 0., 0., 0.],\n",
            "         [0., 0., 0.,  ..., 0., 0., 0.]]]) tensor([[[1., 1., 1.,  ..., 1., 1., 1.],\n",
            "         [1., 1., 1.,  ..., 1., 1., 1.],\n",
            "         [1., 1., 1.,  ..., 1., 1., 1.],\n",
            "         ...,\n",
            "         [0., 0., 0.,  ..., 0., 0., 0.],\n",
            "         [0., 0., 0.,  ..., 0., 0., 0.],\n",
            "         [0., 0., 0.,  ..., 0., 0., 0.]],\n",
            "\n",
            "        [[1., 1., 1.,  ..., 1., 1., 1.],\n",
            "         [1., 1., 1.,  ..., 1., 1., 1.],\n",
            "         [1., 1., 1.,  ..., 1., 1., 1.],\n",
            "         ...,\n",
            "         [0., 0., 0.,  ..., 0., 0., 0.],\n",
            "         [0., 0., 0.,  ..., 0., 0., 0.],\n",
            "         [0., 0., 0.,  ..., 0., 0., 0.]],\n",
            "\n",
            "        [[1., 1., 1.,  ..., 1., 1., 1.],\n",
            "         [1., 1., 1.,  ..., 1., 1., 1.],\n",
            "         [1., 1., 1.,  ..., 1., 1., 1.],\n",
            "         ...,\n",
            "         [0., 0., 0.,  ..., 0., 0., 0.],\n",
            "         [0., 0., 0.,  ..., 0., 0., 0.],\n",
            "         [0., 0., 0.,  ..., 0., 0., 0.]],\n",
            "\n",
            "        ...,\n",
            "\n",
            "        [[1., 1., 1.,  ..., 1., 1., 1.],\n",
            "         [1., 1., 1.,  ..., 1., 1., 1.],\n",
            "         [1., 1., 1.,  ..., 1., 1., 1.],\n",
            "         ...,\n",
            "         [0., 0., 0.,  ..., 0., 0., 0.],\n",
            "         [0., 0., 0.,  ..., 0., 0., 0.],\n",
            "         [0., 0., 0.,  ..., 0., 0., 0.]],\n",
            "\n",
            "        [[1., 1., 1.,  ..., 1., 1., 1.],\n",
            "         [1., 1., 1.,  ..., 1., 1., 1.],\n",
            "         [1., 1., 1.,  ..., 1., 1., 1.],\n",
            "         ...,\n",
            "         [0., 0., 0.,  ..., 0., 0., 0.],\n",
            "         [0., 0., 0.,  ..., 0., 0., 0.],\n",
            "         [0., 0., 0.,  ..., 0., 0., 0.]],\n",
            "\n",
            "        [[1., 1., 1.,  ..., 1., 1., 1.],\n",
            "         [1., 1., 1.,  ..., 1., 1., 1.],\n",
            "         [1., 1., 1.,  ..., 1., 1., 1.],\n",
            "         ...,\n",
            "         [0., 0., 0.,  ..., 0., 0., 0.],\n",
            "         [0., 0., 0.,  ..., 0., 0., 0.],\n",
            "         [0., 0., 0.,  ..., 0., 0., 0.]]])\n"
          ]
        }
      ],
      "source": [
        "print(resized_attention_mask_res, resized_attention_mask_jds)"
      ]
    },
    {
      "cell_type": "code",
      "execution_count": null,
      "metadata": {
        "colab": {
          "base_uri": "https://localhost:8080/"
        },
        "id": "jojpibPB5HJj",
        "outputId": "aac6a7f2-2433-455d-d20a-7c23561f09df"
      },
      "outputs": [
        {
          "data": {
            "text/plain": [
              "torch.Size([768])"
            ]
          },
          "execution_count": 123,
          "metadata": {},
          "output_type": "execute_result"
        }
      ],
      "source": [
        "resized_attention_mask_jds[0][0].shape"
      ]
    },
    {
      "cell_type": "code",
      "execution_count": null,
      "metadata": {
        "colab": {
          "base_uri": "https://localhost:8080/"
        },
        "id": "qCBnd5Du5Ilr",
        "outputId": "fda4b11c-63eb-436b-9ca6-b5b48f3d82a2"
      },
      "outputs": [
        {
          "data": {
            "text/plain": [
              "torch.Size([15, 512, 768])"
            ]
          },
          "execution_count": 125,
          "metadata": {},
          "output_type": "execute_result"
        }
      ],
      "source": [
        "masked_embedding_res = embeddings_res * resized_attention_mask_res\n",
        "masked_embedding_res.shape\n",
        "masked_embedding_jds = embeddings_jds * resized_attention_mask_jds\n",
        "masked_embedding_jds.shape\n"
      ]
    },
    {
      "cell_type": "code",
      "execution_count": null,
      "metadata": {
        "colab": {
          "base_uri": "https://localhost:8080/"
        },
        "id": "oA5Qive15KPz",
        "outputId": "88845e8b-d868-429f-f54f-c8181abaad5e"
      },
      "outputs": [
        {
          "name": "stdout",
          "output_type": "stream",
          "text": [
            "tensor([[[ 0.0638, -0.0223, -0.0726,  ..., -0.0891,  0.1923, -0.0530],\n",
            "         [-0.0542, -0.1651, -0.1084,  ...,  0.1009,  0.1772, -0.0542],\n",
            "         [ 0.0029, -0.0241, -0.0135,  ...,  0.0113,  0.1817, -0.0429],\n",
            "         ...,\n",
            "         [-0.0000,  0.0000, -0.0000,  ..., -0.0000,  0.0000, -0.0000],\n",
            "         [-0.0000,  0.0000, -0.0000,  ..., -0.0000,  0.0000, -0.0000],\n",
            "         [-0.0000,  0.0000, -0.0000,  ..., -0.0000,  0.0000, -0.0000]],\n",
            "\n",
            "        [[-0.0116, -0.0754, -0.0156,  ...,  0.0159,  0.0869, -0.1285],\n",
            "         [-0.0295, -0.0597, -0.0788,  ...,  0.1064,  0.0005, -0.1817],\n",
            "         [ 0.0358, -0.0873, -0.1843,  ...,  0.0783,  0.1769, -0.0796],\n",
            "         ...,\n",
            "         [-0.0000,  0.0000, -0.0000,  ...,  0.0000,  0.0000, -0.0000],\n",
            "         [-0.0000,  0.0000, -0.0000,  ...,  0.0000,  0.0000, -0.0000],\n",
            "         [-0.0000,  0.0000, -0.0000,  ...,  0.0000,  0.0000, -0.0000]],\n",
            "\n",
            "        [[ 0.0176, -0.0452, -0.0186,  ...,  0.0690,  0.1560, -0.0189],\n",
            "         [ 0.0570, -0.0504, -0.0360,  ...,  0.1623,  0.1425, -0.0858],\n",
            "         [-0.0042, -0.2376, -0.0842,  ...,  0.0706,  0.1127, -0.1024],\n",
            "         ...,\n",
            "         [-0.0000,  0.0000, -0.0000,  ...,  0.0000,  0.0000, -0.0000],\n",
            "         [-0.0000,  0.0000, -0.0000,  ...,  0.0000,  0.0000, -0.0000],\n",
            "         [-0.0000,  0.0000, -0.0000,  ...,  0.0000,  0.0000, -0.0000]],\n",
            "\n",
            "        ...,\n",
            "\n",
            "        [[-0.0152,  0.0995, -0.0503,  ..., -0.0027,  0.1399,  0.0077],\n",
            "         [ 0.0661, -0.0423, -0.1002,  ...,  0.1280,  0.0692, -0.0925],\n",
            "         [ 0.0111, -0.0692, -0.0808,  ...,  0.1271,  0.2368,  0.0981],\n",
            "         ...,\n",
            "         [-0.0000,  0.0000, -0.0000,  ...,  0.0000,  0.0000,  0.0000],\n",
            "         [-0.0000,  0.0000, -0.0000,  ...,  0.0000,  0.0000,  0.0000],\n",
            "         [-0.0000,  0.0000, -0.0000,  ...,  0.0000,  0.0000,  0.0000]],\n",
            "\n",
            "        [[ 0.0348, -0.0319, -0.0813,  ..., -0.0207,  0.1510, -0.0038],\n",
            "         [-0.0518, -0.0671, -0.1115,  ...,  0.0734,  0.0965, -0.0962],\n",
            "         [-0.0324, -0.1603, -0.0846,  ..., -0.0616,  0.0442, -0.0556],\n",
            "         ...,\n",
            "         [-0.0000,  0.0000, -0.0000,  ..., -0.0000,  0.0000,  0.0000],\n",
            "         [-0.0000,  0.0000, -0.0000,  ..., -0.0000,  0.0000,  0.0000],\n",
            "         [-0.0000,  0.0000, -0.0000,  ..., -0.0000,  0.0000,  0.0000]],\n",
            "\n",
            "        [[ 0.0535, -0.0385, -0.0016,  ...,  0.0123,  0.1238, -0.1309],\n",
            "         [ 0.1523,  0.0847, -0.1321,  ...,  0.1448,  0.0888, -0.1313],\n",
            "         [ 0.0331,  0.0685, -0.0920,  ...,  0.0437,  0.1855, -0.0107],\n",
            "         ...,\n",
            "         [ 0.0000,  0.0000, -0.0000,  ...,  0.0000,  0.0000, -0.0000],\n",
            "         [ 0.0000,  0.0000, -0.0000,  ...,  0.0000,  0.0000, -0.0000],\n",
            "         [ 0.0000,  0.0000, -0.0000,  ...,  0.0000,  0.0000, -0.0000]]],\n",
            "       grad_fn=<MulBackward0>) tensor([[[ 0.1442, -0.1222, -0.2261,  ..., -0.1178,  0.1255, -0.2676],\n",
            "         [ 0.2983,  0.0226, -0.1958,  ..., -0.1053,  0.1682, -0.2298],\n",
            "         [ 0.1085, -0.1287, -0.1502,  ..., -0.1356,  0.2186, -0.1399],\n",
            "         ...,\n",
            "         [ 0.0000, -0.0000, -0.0000,  ..., -0.0000,  0.0000, -0.0000],\n",
            "         [ 0.0000, -0.0000, -0.0000,  ..., -0.0000,  0.0000, -0.0000],\n",
            "         [ 0.0000, -0.0000, -0.0000,  ..., -0.0000,  0.0000, -0.0000]],\n",
            "\n",
            "        [[-0.0787,  0.2555,  0.0560,  ...,  0.1349,  0.1310, -0.0753],\n",
            "         [-0.1252,  0.4303,  0.0503,  ...,  0.1564,  0.1958, -0.0202],\n",
            "         [-0.1153,  0.3893,  0.1658,  ...,  0.2150,  0.1737, -0.0371],\n",
            "         ...,\n",
            "         [-0.0000,  0.0000,  0.0000,  ...,  0.0000,  0.0000, -0.0000],\n",
            "         [-0.0000,  0.0000,  0.0000,  ...,  0.0000,  0.0000, -0.0000],\n",
            "         [-0.0000,  0.0000,  0.0000,  ...,  0.0000,  0.0000, -0.0000]],\n",
            "\n",
            "        [[-0.0573, -0.3370,  0.0643,  ..., -0.0406,  0.0131, -0.0550],\n",
            "         [ 0.0201,  0.3438, -0.0495,  ..., -0.0708,  0.0361,  0.0225],\n",
            "         [ 0.0469, -0.1570,  0.0512,  ..., -0.0726, -0.0584, -0.0908],\n",
            "         ...,\n",
            "         [-0.0000,  0.0000,  0.0000,  ..., -0.0000, -0.0000, -0.0000],\n",
            "         [-0.0000,  0.0000,  0.0000,  ..., -0.0000, -0.0000, -0.0000],\n",
            "         [-0.0000,  0.0000,  0.0000,  ..., -0.0000, -0.0000, -0.0000]],\n",
            "\n",
            "        ...,\n",
            "\n",
            "        [[ 0.0129, -0.0203, -0.0756,  ..., -0.0125, -0.0092, -0.0801],\n",
            "         [ 0.1727,  0.0389, -0.1707,  ...,  0.0307, -0.0311, -0.0529],\n",
            "         [ 0.1690,  0.0810, -0.1815,  ...,  0.0098,  0.0343, -0.0463],\n",
            "         ...,\n",
            "         [ 0.0000,  0.0000, -0.0000,  ...,  0.0000, -0.0000, -0.0000],\n",
            "         [ 0.0000,  0.0000, -0.0000,  ...,  0.0000, -0.0000, -0.0000],\n",
            "         [ 0.0000,  0.0000, -0.0000,  ...,  0.0000, -0.0000, -0.0000]],\n",
            "\n",
            "        [[ 0.0085, -0.1135, -0.0065,  ..., -0.1009, -0.0930,  0.0228],\n",
            "         [ 0.0457,  0.0405,  0.0156,  ..., -0.1541, -0.1080,  0.0755],\n",
            "         [ 0.1610,  0.3202, -0.0086,  ..., -0.0794, -0.0622, -0.0333],\n",
            "         ...,\n",
            "         [ 0.0000,  0.0000, -0.0000,  ..., -0.0000, -0.0000, -0.0000],\n",
            "         [ 0.0000,  0.0000, -0.0000,  ..., -0.0000, -0.0000, -0.0000],\n",
            "         [ 0.0000,  0.0000, -0.0000,  ..., -0.0000, -0.0000, -0.0000]],\n",
            "\n",
            "        [[ 0.1409, -0.0509, -0.0933,  ...,  0.0187, -0.0216, -0.0586],\n",
            "         [ 0.1452,  0.0271, -0.1860,  ..., -0.0100, -0.0912, -0.0916],\n",
            "         [ 0.1310,  0.4406, -0.1425,  ..., -0.0470, -0.1057, -0.1062],\n",
            "         ...,\n",
            "         [ 0.0000,  0.0000, -0.0000,  ...,  0.0000, -0.0000, -0.0000],\n",
            "         [ 0.0000,  0.0000, -0.0000,  ...,  0.0000, -0.0000, -0.0000],\n",
            "         [ 0.0000,  0.0000, -0.0000,  ...,  0.0000, -0.0000, -0.0000]]],\n",
            "       grad_fn=<MulBackward0>)\n"
          ]
        }
      ],
      "source": [
        "print(masked_embedding_res, masked_embedding_jds)"
      ]
    },
    {
      "cell_type": "code",
      "execution_count": null,
      "metadata": {
        "colab": {
          "base_uri": "https://localhost:8080/"
        },
        "id": "oU9Bg-965Lfn",
        "outputId": "033c2ff4-0401-44d5-db5e-4af240521c10"
      },
      "outputs": [],
      "source": [
        "summed_masked_embeddings_res = torch.sum(masked_embedding_res, 1)\n",
        "summed_masked_embeddings_jds = torch.sum(masked_embedding_jds, 1)\n",
        "\n"
      ]
    },
    {
      "cell_type": "code",
      "execution_count": null,
      "metadata": {
        "colab": {
          "base_uri": "https://localhost:8080/"
        },
        "id": "82aduPuj5NUV",
        "outputId": "ca584bd9-07c4-4c2d-ebcc-1ab3064cd015"
      },
      "outputs": [
        {
          "name": "stdout",
          "output_type": "stream",
          "text": [
            "tensor([[-0.0214, -0.5595, -0.8901,  ..., -0.7069,  2.4902, -1.1125],\n",
            "        [-1.2205, -0.9466, -0.7464,  ...,  1.2782,  2.6587, -2.6356],\n",
            "        [-0.6054, -4.6724, -0.7509,  ...,  2.5821,  6.6477, -1.3908],\n",
            "        ...,\n",
            "        [-5.5199,  5.3130, -6.2001,  ...,  7.1198, 12.2640, -2.7251],\n",
            "        [ 2.4542, -8.7723, -9.1892,  ...,  1.3914, 17.5477,  0.5174],\n",
            "        [ 0.4720,  0.3210, -0.4807,  ...,  0.7508,  1.2484, -1.0538]],\n",
            "       grad_fn=<SumBackward1>) tensor([[ 3.6319, -0.5037, -2.7960,  ..., -1.4151,  1.9501, -2.5900],\n",
            "        [-0.7370,  2.3888,  0.8173,  ...,  1.2526,  1.0763, -0.4517],\n",
            "        [ 0.0096, -0.1501,  0.0660,  ..., -0.1841, -0.0092, -0.1233],\n",
            "        ...,\n",
            "        [ 2.7517, -0.0103, -2.3426,  ..., -0.4373, -0.8095, -1.2891],\n",
            "        [ 0.2834,  0.1424, -0.0172,  ..., -0.4015, -0.3233,  0.0491],\n",
            "        [ 0.6103,  0.3027, -0.5265,  ..., -0.1255, -0.2689, -0.3328]],\n",
            "       grad_fn=<SumBackward1>)\n"
          ]
        }
      ],
      "source": [
        "print(summed_masked_embeddings_res, summed_masked_embeddings_jds)"
      ]
    },
    {
      "cell_type": "code",
      "execution_count": null,
      "metadata": {
        "colab": {
          "base_uri": "https://localhost:8080/"
        },
        "id": "pey8ZXNG5OUN",
        "outputId": "ec28ff2e-b38a-4f30-f046-57e10a4e321e"
      },
      "outputs": [
        {
          "data": {
            "text/plain": [
              "tensor([[[1., 1., 1.,  ..., 1., 1., 1.],\n",
              "         [1., 1., 1.,  ..., 1., 1., 1.],\n",
              "         [1., 1., 1.,  ..., 1., 1., 1.],\n",
              "         ...,\n",
              "         [0., 0., 0.,  ..., 0., 0., 0.],\n",
              "         [0., 0., 0.,  ..., 0., 0., 0.],\n",
              "         [0., 0., 0.,  ..., 0., 0., 0.]],\n",
              "\n",
              "        [[1., 1., 1.,  ..., 1., 1., 1.],\n",
              "         [1., 1., 1.,  ..., 1., 1., 1.],\n",
              "         [1., 1., 1.,  ..., 1., 1., 1.],\n",
              "         ...,\n",
              "         [0., 0., 0.,  ..., 0., 0., 0.],\n",
              "         [0., 0., 0.,  ..., 0., 0., 0.],\n",
              "         [0., 0., 0.,  ..., 0., 0., 0.]],\n",
              "\n",
              "        [[1., 1., 1.,  ..., 1., 1., 1.],\n",
              "         [1., 1., 1.,  ..., 1., 1., 1.],\n",
              "         [1., 1., 1.,  ..., 1., 1., 1.],\n",
              "         ...,\n",
              "         [0., 0., 0.,  ..., 0., 0., 0.],\n",
              "         [0., 0., 0.,  ..., 0., 0., 0.],\n",
              "         [0., 0., 0.,  ..., 0., 0., 0.]],\n",
              "\n",
              "        ...,\n",
              "\n",
              "        [[1., 1., 1.,  ..., 1., 1., 1.],\n",
              "         [1., 1., 1.,  ..., 1., 1., 1.],\n",
              "         [1., 1., 1.,  ..., 1., 1., 1.],\n",
              "         ...,\n",
              "         [0., 0., 0.,  ..., 0., 0., 0.],\n",
              "         [0., 0., 0.,  ..., 0., 0., 0.],\n",
              "         [0., 0., 0.,  ..., 0., 0., 0.]],\n",
              "\n",
              "        [[1., 1., 1.,  ..., 1., 1., 1.],\n",
              "         [1., 1., 1.,  ..., 1., 1., 1.],\n",
              "         [1., 1., 1.,  ..., 1., 1., 1.],\n",
              "         ...,\n",
              "         [0., 0., 0.,  ..., 0., 0., 0.],\n",
              "         [0., 0., 0.,  ..., 0., 0., 0.],\n",
              "         [0., 0., 0.,  ..., 0., 0., 0.]],\n",
              "\n",
              "        [[1., 1., 1.,  ..., 1., 1., 1.],\n",
              "         [1., 1., 1.,  ..., 1., 1., 1.],\n",
              "         [1., 1., 1.,  ..., 1., 1., 1.],\n",
              "         ...,\n",
              "         [0., 0., 0.,  ..., 0., 0., 0.],\n",
              "         [0., 0., 0.,  ..., 0., 0., 0.],\n",
              "         [0., 0., 0.,  ..., 0., 0., 0.]]])"
            ]
          },
          "execution_count": 24,
          "metadata": {},
          "output_type": "execute_result"
        }
      ],
      "source": [
        "resized_attention_mask"
      ]
    },
    {
      "cell_type": "code",
      "execution_count": null,
      "metadata": {
        "colab": {
          "base_uri": "https://localhost:8080/"
        },
        "id": "28dyWtEb5PPQ",
        "outputId": "cbd86663-0e3e-436c-8a62-b7b87ca16e89"
      },
      "outputs": [],
      "source": [
        "count_of_one_in_mask_tensor_res = torch.clamp(resized_attention_mask_res.sum(1), min=1e-9 )\n",
        "count_of_one_in_mask_tensor_jds = torch.clamp(resized_attention_mask_jds.sum(1), min=1e-9)"
      ]
    },
    {
      "cell_type": "code",
      "execution_count": null,
      "metadata": {
        "colab": {
          "base_uri": "https://localhost:8080/"
        },
        "id": "UwXix1L75QZt",
        "outputId": "59e737ef-5559-49b7-a6ec-58e208e6d16f"
      },
      "outputs": [
        {
          "name": "stdout",
          "output_type": "stream",
          "text": [
            "tensor([[ 15.,  15.,  15.,  ...,  15.,  15.,  15.],\n",
            "        [ 24.,  24.,  24.,  ...,  24.,  24.,  24.],\n",
            "        [ 35.,  35.,  35.,  ...,  35.,  35.,  35.],\n",
            "        ...,\n",
            "        [116., 116., 116.,  ..., 116., 116., 116.],\n",
            "        [ 76.,  76.,  76.,  ...,  76.,  76.,  76.],\n",
            "        [  8.,   8.,   8.,  ...,   8.,   8.,   8.]]) tensor([[16., 16., 16.,  ..., 16., 16., 16.],\n",
            "        [ 7.,  7.,  7.,  ...,  7.,  7.,  7.],\n",
            "        [ 3.,  3.,  3.,  ...,  3.,  3.,  3.],\n",
            "        ...,\n",
            "        [22., 22., 22.,  ..., 22., 22., 22.],\n",
            "        [ 4.,  4.,  4.,  ...,  4.,  4.,  4.],\n",
            "        [ 4.,  4.,  4.,  ...,  4.,  4.,  4.]])\n"
          ]
        }
      ],
      "source": [
        "print(count_of_one_in_mask_tensor_res,count_of_one_in_mask_tensor_jds)"
      ]
    },
    {
      "cell_type": "code",
      "execution_count": null,
      "metadata": {
        "id": "nL5oFq6z5X9L"
      },
      "outputs": [],
      "source": [
        "mean_pooled_res = summed_masked_embeddings_res / count_of_one_in_mask_tensor_res\n",
        "mean_pooled_jds = summed_masked_embeddings_jds / count_of_one_in_mask_tensor_jds\n"
      ]
    },
    {
      "cell_type": "code",
      "execution_count": null,
      "metadata": {
        "colab": {
          "base_uri": "https://localhost:8080/"
        },
        "id": "OiOKnW4h5Yxd",
        "outputId": "515d67f2-3143-4164-f956-d879a3a0c6b1"
      },
      "outputs": [
        {
          "data": {
            "text/plain": [
              "torch.Size([15, 768])"
            ]
          },
          "execution_count": 143,
          "metadata": {},
          "output_type": "execute_result"
        }
      ],
      "source": [
        "mean_pooled_jds.shape"
      ]
    },
    {
      "cell_type": "code",
      "execution_count": null,
      "metadata": {
        "colab": {
          "base_uri": "https://localhost:8080/"
        },
        "id": "Dn-Cru8d5ZnW",
        "outputId": "ecbb635f-534d-4331-af9d-61eec9a46c7c"
      },
      "outputs": [],
      "source": [
        "from sklearn.metrics.pairwise import cosine_similarity\n",
        "\n",
        "mean_pooled_res = mean_pooled_res.detach().numpy()\n",
        "mean_pooled_jds = mean_pooled_jds.detach().numpy()\n"
      ]
    },
    {
      "cell_type": "code",
      "execution_count": null,
      "metadata": {
        "id": "ym9EZM-W5ar6"
      },
      "outputs": [
        {
          "data": {
            "text/plain": [
              "array([[0.2735528 , 0.35187927, 0.31203234, 0.19061683, 0.24113005,\n",
              "        0.2887963 , 0.300919  , 0.29175347, 0.2041206 , 0.3292647 ,\n",
              "        0.2919261 , 0.26974857, 0.2553419 , 0.26320016, 0.31945303,\n",
              "        0.34041438, 0.21112108, 0.288772  , 0.34612405, 0.24107727]],\n",
              "      dtype=float32)"
            ]
          },
          "execution_count": 152,
          "metadata": {},
          "output_type": "execute_result"
        }
      ],
      "source": [
        "res = cosine_similarity([mean_pooled_jds[0]], mean_pooled_res[0:])\n",
        "res"
      ]
    },
    {
      "cell_type": "code",
      "execution_count": null,
      "metadata": {},
      "outputs": [
        {
          "name": "stdout",
          "output_type": "stream",
          "text": [
            "Job: Software Engineer (Web)\n"
          ]
        },
        {
          "data": {
            "text/html": [
              "<div>\n",
              "<style scoped>\n",
              "    .dataframe tbody tr th:only-of-type {\n",
              "        vertical-align: middle;\n",
              "    }\n",
              "\n",
              "    .dataframe tbody tr th {\n",
              "        vertical-align: top;\n",
              "    }\n",
              "\n",
              "    .dataframe thead th {\n",
              "        text-align: right;\n",
              "    }\n",
              "</style>\n",
              "<table border=\"1\" class=\"dataframe\">\n",
              "  <thead>\n",
              "    <tr style=\"text-align: right;\">\n",
              "      <th></th>\n",
              "      <th>Category</th>\n",
              "      <th>Scores</th>\n",
              "    </tr>\n",
              "  </thead>\n",
              "  <tbody>\n",
              "    <tr>\n",
              "      <th>3</th>\n",
              "      <td>Professional Summary</td>\n",
              "      <td>0.351879</td>\n",
              "    </tr>\n",
              "    <tr>\n",
              "      <th>20</th>\n",
              "      <td>general ledger</td>\n",
              "      <td>0.346124</td>\n",
              "    </tr>\n",
              "    <tr>\n",
              "      <th>17</th>\n",
              "      <td>SUPERVISOR ACCOUNTANT</td>\n",
              "      <td>0.340414</td>\n",
              "    </tr>\n",
              "    <tr>\n",
              "      <th>11</th>\n",
              "      <td>PROJECT ACCOUNTANT</td>\n",
              "      <td>0.329265</td>\n",
              "    </tr>\n",
              "    <tr>\n",
              "      <th>16</th>\n",
              "      <td>ACCOUNTANT III</td>\n",
              "      <td>0.319453</td>\n",
              "    </tr>\n",
              "  </tbody>\n",
              "</table>\n",
              "</div>"
            ],
            "text/plain": [
              "                 Category    Scores\n",
              "3    Professional Summary  0.351879\n",
              "20         general ledger  0.346124\n",
              "17  SUPERVISOR ACCOUNTANT  0.340414\n",
              "11     PROJECT ACCOUNTANT  0.329265\n",
              "16         ACCOUNTANT III  0.319453"
            ]
          },
          "execution_count": 175,
          "metadata": {},
          "output_type": "execute_result"
        }
      ],
      "source": [
        "print(f\"Job: {df_jds['position_title'][0]}\")\n",
        "categs = df_res['Category']\n",
        "data = {'Category': categs[1:], 'Scores': res[0]}\n",
        "df_scores = pd.DataFrame(data)\n",
        "df_scores = df_scores.sort_values(by='Scores', ascending=False)\n",
        "df_scores[:5]"
      ]
    },
    {
      "cell_type": "code",
      "execution_count": null,
      "metadata": {},
      "outputs": [],
      "source": []
    }
  ],
  "metadata": {
    "accelerator": "TPU",
    "colab": {
      "provenance": []
    },
    "kernelspec": {
      "display_name": "venv",
      "language": "python",
      "name": "python3"
    },
    "language_info": {
      "codemirror_mode": {
        "name": "ipython",
        "version": 3
      },
      "file_extension": ".py",
      "mimetype": "text/x-python",
      "name": "python",
      "nbconvert_exporter": "python",
      "pygments_lexer": "ipython3",
      "version": "3.10.5"
    },
    "orig_nbformat": 4
  },
  "nbformat": 4,
  "nbformat_minor": 0
}
